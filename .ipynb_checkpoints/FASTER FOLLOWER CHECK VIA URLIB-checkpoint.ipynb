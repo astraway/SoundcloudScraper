{
 "cells": [
  {
   "cell_type": "markdown",
   "metadata": {},
   "source": [
    "After retrieving the usernames of all of the people who commented on the song from the \"Ripping Soundcloud\" Notebook, I needed to find a way to find how many followers each user had. I decided that if a user has above a certain number of followers, then we know they use soundcloud enough to warrant engaging with them. In this notebook I was just figuring out how to get to that number. In a seprate python script I put these two Notebooks together and ran it so that I had a list of all users with more than 80 Followers. "
   ]
  },
  {
   "cell_type": "code",
   "execution_count": 1,
   "metadata": {
    "collapsed": true
   },
   "outputs": [],
   "source": [
    "import urllib2"
   ]
  },
  {
   "cell_type": "raw",
   "metadata": {},
   "source": [
    "Example Soundcloud user page"
   ]
  },
  {
   "cell_type": "code",
   "execution_count": 2,
   "metadata": {
    "collapsed": true
   },
   "outputs": [],
   "source": [
    "soundcloud = \"https://soundcloud.com/jeff-lim-12\""
   ]
  },
  {
   "cell_type": "code",
   "execution_count": 3,
   "metadata": {
    "collapsed": true
   },
   "outputs": [],
   "source": [
    "page = urllib2.urlopen(soundcloud)"
   ]
  },
  {
   "cell_type": "code",
   "execution_count": 4,
   "metadata": {
    "collapsed": false
   },
   "outputs": [],
   "source": [
    "from bs4 import BeautifulSoup"
   ]
  },
  {
   "cell_type": "code",
   "execution_count": 5,
   "metadata": {
    "collapsed": false
   },
   "outputs": [
    {
     "name": "stderr",
     "output_type": "stream",
     "text": [
      "/Users/EJ/anaconda/lib/python2.7/site-packages/bs4/__init__.py:166: UserWarning: No parser was explicitly specified, so I'm using the best available HTML parser for this system (\"lxml\"). This usually isn't a problem, but if you run this code on another system, or in a different virtual environment, it may use a different parser and behave differently.\n",
      "\n",
      "To get rid of this warning, change this:\n",
      "\n",
      " BeautifulSoup([your markup])\n",
      "\n",
      "to this:\n",
      "\n",
      " BeautifulSoup([your markup], \"lxml\")\n",
      "\n",
      "  markup_type=markup_type))\n"
     ]
    }
   ],
   "source": [
    "soup = BeautifulSoup(page)"
   ]
  },
  {
   "cell_type": "markdown",
   "metadata": {},
   "source": [
    "Used Soup Prettify to search for the right \"Follower\" tag."
   ]
  },
  {
   "cell_type": "code",
   "execution_count": 10,
   "metadata": {
    "collapsed": false
   },
   "outputs": [
    {
     "name": "stdout",
     "output_type": "stream",
     "text": [
      "<!DOCTYPE html>\n",
      "<html lang=\"en\">\n",
      " <head>\n",
      "  <meta charset=\"utf-8\"/>\n",
      "  <meta content=\"IE=edge,chrome=1\" http-equiv=\"X-UA-Compatible\"/>\n",
      "  <link href=\"//style.sndcdn.com\" rel=\"dns-prefetch\"/>\n",
      "  <link href=\"//a-v2.sndcdn.com\" rel=\"dns-prefetch\"/>\n",
      "  <link href=\"//api-v2.soundcloud.com\" rel=\"dns-prefetch\"/>\n",
      "  <link href=\"//sb.scorecardresearch.com\" rel=\"dns-prefetch\"/>\n",
      "  <link href=\"//secure.quantserve.com\" rel=\"dns-prefetch\"/>\n",
      "  <link href=\"//eventlogger.soundcloud.com\" rel=\"dns-prefetch\"/>\n",
      "  <link href=\"//api.soundcloud.com\" rel=\"dns-prefetch\"/>\n",
      "  <link href=\"//ssl.google-analytics.com\" rel=\"dns-prefetch\"/>\n",
      "  <link href=\"//i1.sndcdn.com\" rel=\"dns-prefetch\"/>\n",
      "  <link href=\"//i2.sndcdn.com\" rel=\"dns-prefetch\"/>\n",
      "  <link href=\"//i3.sndcdn.com\" rel=\"dns-prefetch\"/>\n",
      "  <link href=\"//i4.sndcdn.com\" rel=\"dns-prefetch\"/>\n",
      "  <link href=\"//wis.sndcdn.com\" rel=\"dns-prefetch\"/>\n",
      "  <link href=\"//va.sndcdn.com\" rel=\"dns-prefetch\"/>\n",
      "  <link href=\"//pixel.quantserve.com\" rel=\"dns-prefetch\"/>\n",
      "  <title>\n",
      "   Jeff Lim 94 | Free Listening on SoundCloud\n",
      "  </title>\n",
      "  <meta content=\"record, sounds, share, sound, audio, tracks, music, soundcloud\" name=\"keywords\"/>\n",
      "  <meta content=\"origin\" name=\"referrer\"/>\n",
      "  <meta content=\"dY0CigqM8Inubs_hgrYMwk-zGchKwrvJLcvI_G8631Q\" name=\"google-site-verification\"/>\n",
      "  <meta content=\"width=device-width,minimum-scale=1,maximum-scale=1,user-scalable=no\" name=\"viewport\"/>\n",
      "  <!--[if IE]><meta content=\"true\" name=\"MSSmartTagsPreventParsing\">\n",
      "    <meta content=\"false\" http-equiv=\"imagetoolbar\"><![endif]-->\n",
      "  <meta content=\"19507961798\" property=\"fb:app_id\"/>\n",
      "  <meta content=\"SoundCloud\" property=\"og:site_name\"/>\n",
      "  <meta content=\"SoundCloud\" property=\"twitter:site\"/>\n",
      "  <meta content=\"SoundCloud\" property=\"twitter:app:name:iphone\"/>\n",
      "  <meta content=\"336353151\" property=\"twitter:app:id:iphone\"/>\n",
      "  <meta content=\"SoundCloud\" property=\"twitter:app:name:ipad\"/>\n",
      "  <meta content=\"336353151\" property=\"twitter:app:id:ipad\"/>\n",
      "  <meta content=\"SoundCloud\" property=\"twitter:app:name:googleplay\"/>\n",
      "  <meta content=\"com.soundcloud.android\" property=\"twitter:app:id:googleplay\"/>\n",
      "  <link href=\"/sc-opensearch.xml\" rel=\"search\" title=\"SoundCloud search\" type=\"application/opensearchdescription+xml\"/>\n",
      "  <meta content=\"Listen to Jeff Lim 94 | SoundCloud is an audio platform that lets you listen to what you love and share the sounds you create.. Penang. 5 Tracks. 79 Followers. Stream Tracks and Playlists from Jeff Lim 94 on your desktop or mobile device.\" name=\"description\"/>\n",
      "  <meta content=\"SoundCloud\" property=\"twitter:app:name:iphone\"/>\n",
      "  <meta content=\"336353151\" property=\"twitter:app:id:iphone\"/>\n",
      "  <meta content=\"SoundCloud\" property=\"twitter:app:name:ipad\"/>\n",
      "  <meta content=\"336353151\" property=\"twitter:app:id:ipad\"/>\n",
      "  <meta content=\"SoundCloud\" property=\"twitter:app:name:googleplay\"/>\n",
      "  <meta content=\"com.soundcloud.android\" property=\"twitter:app:id:googleplay\"/>\n",
      "  <meta content=\"soundcloud://users:31998950\" property=\"twitter:app:url:googleplay\"/>\n",
      "  <meta content=\"soundcloud://users:31998950\" property=\"twitter:app:url:iphone\"/>\n",
      "  <meta content=\"soundcloud://users:31998950\" property=\"twitter:app:url:ipad\"/>\n",
      "  <meta content=\"Jeff Lim 94\" property=\"twitter:title\"/>\n",
      "  <meta content=\"https://i1.sndcdn.com/avatars-000074568974-7dowei-t500x500.jpg\" property=\"twitter:image\"/>\n",
      "  <meta content=\"Listen to Jeff Lim 94 | SoundCloud is an audio platform that lets you listen to what you love and share the sounds you create.\" property=\"twitter:description\"/>\n",
      "  <meta content=\"summary\" property=\"twitter:card\"/>\n",
      "  <meta content=\"450\" property=\"twitter:player:height\"/>\n",
      "  <meta content=\"435\" property=\"twitter:player:width\"/>\n",
      "  <meta content=\"https://w.soundcloud.com/player/?url=https%3A%2F%2Fapi.soundcloud.com%2Fusers%2F31998950&amp;auto_play=false&amp;show_artwork=true&amp;visual=true&amp;origin=twitter\" property=\"twitter:player\"/>\n",
      "  <meta content=\"SoundCloud\" property=\"al:ios:app_name\"/>\n",
      "  <meta content=\"336353151\" property=\"al:ios:app_store_id\"/>\n",
      "  <meta content=\"SoundCloud\" property=\"al:android:app_name\"/>\n",
      "  <meta content=\"com.soundcloud.android\" property=\"al:android:package\"/>\n",
      "  <meta content=\"music.musician\" property=\"og:type\"/>\n",
      "  <meta content=\"https://soundcloud.com/jeff-lim-12\" property=\"og:url\"/>\n",
      "  <meta content=\"Jeff Lim 94\" property=\"og:title\"/>\n",
      "  <meta content=\"https://i1.sndcdn.com/avatars-000074568974-7dowei-t500x500.jpg\" property=\"og:image\"/>\n",
      "  <meta content=\"500\" property=\"og:image:width\"/>\n",
      "  <meta content=\"500\" property=\"og:image:height\"/>\n",
      "  <meta content=\"Listen to Jeff Lim 94 | SoundCloud is an audio platform that lets you listen to what you love and share the sounds you create.\" property=\"og:description\"/>\n",
      "  <meta content=\"Penang\" property=\"og:locality\"/>\n",
      "  <meta content=\"Malaysia\" property=\"og:country-name\"/>\n",
      "  <meta content=\"soundcloud://users:31998950\" property=\"al:ios:url\"/>\n",
      "  <meta content=\"soundcloud://users:31998950\" property=\"al:android:url\"/>\n",
      "  <meta content=\"false\" property=\"al:web:should_fallback\"/>\n",
      "  <meta content=\"5\" property=\"soundcloud:sound_count\"/>\n",
      "  <meta content=\"79\" property=\"soundcloud:follower_count\"/>\n",
      "  <link href=\"https://soundcloud.com/jeff-lim-12\" rel=\"canonical\"/>\n",
      "  <link href=\"https://m.soundcloud.com/jeff-lim-12\" media=\"only screen and (max-width: 640px)\" rel=\"alternate\"/>\n",
      "  <link href=\"https://soundcloud.com/oembed?url=https%3A%2F%2Fsoundcloud.com%2Fjeff-lim-12&amp;format=xml\" rel=\"alternate\" type=\"text/xml+oembed\"/>\n",
      "  <link href=\"https://soundcloud.com/oembed?url=https%3A%2F%2Fsoundcloud.com%2Fjeff-lim-12&amp;format=json\" rel=\"alternate\" type=\"text/json+oembed\"/>\n",
      "  <link href=\"android-app://com.soundcloud.android/soundcloud/users:31998950\" rel=\"alternate\"/>\n",
      "  <link href=\"ios-app://336353151/soundcloud/users:31998950\" rel=\"alternate\"/>\n",
      "  <meta content=\"SoundCloud\" name=\"application-name\"/>\n",
      "  <meta content=\"Launch SoundCloud\" name=\"msapplication-tooltip\"/>\n",
      "  <meta content=\"https://a-v2.sndcdn.com/assets/images/sc-icons/win8-2dc974a1.png\" name=\"msapplication-TileImage\"/>\n",
      "  <meta content=\"#ff5500\" name=\"msapplication-TileColor\"/>\n",
      "  <meta content=\"https://soundcloud.com\" name=\"msapplication-starturl\"/>\n",
      "  <link href=\"https://a-v2.sndcdn.com/assets/images/sc-icons/favicon-2cadd14b.ico\" rel=\"icon\"/>\n",
      "  <link href=\"https://a-v2.sndcdn.com/assets/images/sc-icons/ios-a62dfc8f.png\" rel=\"apple-touch-icon\"/>\n",
      "  <link href=\"https://a-v2.sndcdn.com/assets/images/sc-icons/fluid-b4e7a64b.png\" rel=\"fluid-icon\"/>\n",
      "  <script type=\"text/javascript\">\n",
      "   !function(){function o(o){return o.test(i)}function e(){var o,e=i.match(/(opera|chrome|safari|firefox|msie)\\/?\\s*(\\.?\\d+(\\.\\d+)*)/i);return e&&(o=i.match(/version\\/([.\\d]+)/i))?parseInt(o[1],10):e?parseInt(e[2],10):null}var i,n,a;i=window.navigator.userAgent.toLowerCase();var r=\"undefined\"!=typeof window.opera&&\"[object Opera]\"===window.opera.toString(),t=o(/chrome/),s=o(/webkit/),d=!t&&o(/safari/),p=!r&&o(/msie/),c=!s&&o(/gecko/),f=e(),w=o(/mobile|android|iphone|ipod|symbianos|nokia|s60|playbook|playstation/);c&&(n=i.match(/(firefox)\\/?\\s*(\\.?\\d+(\\.\\d+)*)/i),a=n&&n.length>1&&parseInt(n[2],10)>=13),f&&!w&&(t&&f<=20||c&&a===!1||d&&f<=4||p&&f<=9||r&&f<12)&&(window.__sc_abortApp=!0)}();\n",
      "  </script>\n",
      "  <link href=\"https://style.sndcdn.com/css/interstate-0ab59479718c8235122cad6b16a66953d725c43a.css\" rel=\"stylesheet\"/>\n",
      "  <link href=\"https://a-v2.sndcdn.com/assets/css/app-1251b786.css\" rel=\"stylesheet\"/>\n",
      " </head>\n",
      " <body>\n",
      "  <div id=\"app\">\n",
      "   <style type=\"text/css\">\n",
      "    .header{width:100%;background:#333;height:46px}.header__logo{background:#f50;background:linear-gradient(#f70,#f30)}.header__logoLink{background:url(data:image/png;base64,iVBORw0KGgoAAAANSUhEUgAAADAAAAAWCAQAAAAs/tcnAAABMUlEQVR4Ac3UJfQUARTGUaxnrBHpPeDu7u7uTg/QO/SK9q1U3KHg2i7fH4exNeSdc9/ZNL/RHfRfjdHOuOajt246b7Fh/T38WO/9OnfM7s+hx3gUh5XNWYN7D4wnTlOe6OGsv/6eQlQFmNX9WScTs4jqwD3DOr/j04gJxHyiOsCiTgITibnEdGIJURc410lgJrGYmE+sIuoCz1301BstGwxueqQLiVXEMmI9cVp7c9WIYmAqkUysIjYQa4mtRAJtJwb//kgXEdOJTcR2Yiuxi2g/wIYfgTnEBmIFsYvYS+whDhCdBFo/ApuJvcRO4hBxhDhMHCU6Cbz5EThKHCe+7BNEcXceKFxB/e7yFs0h1hP1u/OHXHiL6nfnr2nhO6jfR3r50L5cR9O+oX5+/FX8vfkElmh0Xu+KRLEAAAAASUVORK5CYII=) no-repeat 12px 11px;background-size:48px 22px;display:block;height:46px;width:69px}.header__logoLink:focus{background-color:rgba(255,72,0,.8);outline:0}#header__loading{margin:13px auto 0;width:16px}@media (-webkit-min-device-pixel-ratio:2),(min-resolution:192dpi),(min-resolution:2dppx){.header__logoLink{background-image:url(data:image/png;base64,iVBORw0KGgoAAAANSUhEUgAAAGAAAAAsCAQAAAAwC3WkAAACUklEQVR4Ae2YA4wdURSGv+fattu4MWrbtu24bqOacWrbjNHYrm3bOF3vSXrzOpM7d3c22e8k31P03//ME0WdCM6QsvSlNS1pQGV+8JxnPOEKlyM3CD9SVjbJFzFzV1ZKJcKMVJBrkp6PslaqEFZku3jhmXQjPEhjuZkxjQHkgXjjj2yQBOFAFolksAhA/HBM4lgQJShKK/thMPskFoYASWV/DGeTTQCLXdeQUPbLHOlWcA0Mo0nGDAs0AOyQigUVoEyuVRt2KwRQm+UFFSClrNqwbAAmS0UnAdKedFlluwagNDPdNaBPOmW0fQMw3V2AcspJZRXAugGoIy1cBSihnFLWz9s3AB3wTdx3AHcNwABJ0I3m1EB4wm0ucCbyKIgAJZXdXQPQJWNyaZYxPdgiu1geeeJlhdS7jdUKBUuMyVyTvh4DMJwmGTPcwQrZUJZTMtdbgEq5Vm2oABYrZEeUTdLXS4ByyrqNkspJZWMzjiLsl1rGF/RJU1a5mrJ9A/aUZaU52QiaZMyIfxqoqFyI14BigtQxBagNkGHdgApQyO9Cmhj9TAGqA2QYc4AAPwfs6ZU+QNhXCBqbAtQAyHD4Vwhqhb8By2+johxR/q38y2x+KrviiSnAc4AcfwzIrrhtCvAMIMvhD3Dhfw18CMhu+M2Zor1CuyKPTAEeA2Q47A18ZDmYAhziVsYcCnkDfxgdeYKBeOQ2TQFC3cAfFkTOevkcCKqBpwEvz4DIVvAS4E1A3ktQ/GY7LSJn/f91bnc/KavlidjwUa7LRZkldSimGLf8BYloKYNdaWi1AAAAAElFTkSuQmCC)}}\n",
      "   </style>\n",
      "   <div class=\"header sc-selection-disabled show fixed g-dark g-z-index-header\" role=\"banner\">\n",
      "    <div class=\"header__inner l-container l-fullwidth\">\n",
      "     <div class=\"header__left left\">\n",
      "      <div class=\"header__logo left\">\n",
      "       <a class=\"header__logoLink sc-border-box sc-ir\" href=\"/\" title=\"Home\">\n",
      "        SoundCloud\n",
      "       </a>\n",
      "      </div>\n",
      "     </div>\n",
      "     <div class=\"sc-hidden\" id=\"header__loading\">\n",
      "      <img class=\"hide\" height=\"16\" id=\"loading__img\" src=\"https://a-v2.sndcdn.com/assets/images/loader-dark-45940ae3.gif\" width=\"16\"/>\n",
      "     </div>\n",
      "    </div>\n",
      "   </div>\n",
      "   <script type=\"text/javascript\">\n",
      "    window.setTimeout(function(){if(!window.__sc_abortApp){var e=window.document.getElementById(\"header__loading\");e&&(e.className=\"\")}},6e3);\n",
      "   </script>\n",
      "   <style type=\"text/css\">\n",
      "    .errorPage__inner{width:580px;margin:0 auto;position:relative;padding-top:460px;background:url(https://a-v2.sndcdn.com/assets/images/errors/500-e5a180b7.png) no-repeat 50% 80px;text-align:center;transition:all 1s linear}.errorTitle{margin-bottom:10px;font-size:30px}.errorText{line-height:28px;color:#666;font-size:20px}.errorButtons{margin-top:30px}#updateBrowserMessage{width:600px;margin:0 auto;position:relative;padding-top:410px;background:url(data:image/png;base64,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) no-repeat 50% 130px;text-align:center;display:none}#updateBrowserMessage .messageText{line-height:26px;font-size:20px;margin-bottom:5px}#updateBrowserMessage .downloadLinks{margin-top:0}@media (max-width:1280px){.errorPage__inner{background-size:80%}}\n",
      "   </style>\n",
      "   <noscript class=\"errorPage__inner\">\n",
      "    <div class=\"errorPage__inner\">\n",
      "     <p class=\"errorTitle\">\n",
      "      JavaScript is disabled\n",
      "     </p>\n",
      "     <p class=\"errorText sc-font-light\">\n",
      "      You need to enable JavaScript to use SoundCloud\n",
      "     </p>\n",
      "     <div class=\"errorButtons\">\n",
      "      <a class=\"sc-button sc-button-medium\" href=\"http://www.enable-javascript.com/\" target=\"_blank\">\n",
      "       Show me how to enable it\n",
      "      </a>\n",
      "     </div>\n",
      "    </div>\n",
      "   </noscript>\n",
      "   <noscript>\n",
      "    <article itemscope=\"\" itemtype=\"http://schema.org/MusicGroup\">\n",
      "     <header>\n",
      "      <h1 itemprop=\"name\">\n",
      "       <a href=\"/jeff-lim-12\" itemprop=\"url\">\n",
      "        Jeff Lim 94\n",
      "       </a>\n",
      "      </h1>\n",
      "      <p>\n",
      "       Lim Jeff\n",
      "      </p>\n",
      "      <p>\n",
      "       Penang\n",
      "      </p>\n",
      "      <img alt=\"Jeff Lim 94’s avatar\" height=\"500\" itemprop=\"image\" src=\"https://i1.sndcdn.com/avatars-000074568974-7dowei-t500x500.jpg\" width=\"500\"/>\n",
      "      <div itemprop=\"provider\" itemscope=\"\" itemtype=\"http://schema.org/Organization\">\n",
      "       <meta content=\"SoundCloud\" itemprop=\"name\"/>\n",
      "       <meta content=\"http://developers.soundcloud.com/assets/logo_white-8bf7615eb575eeb114fc65323068e1e4.png\" itemprop=\"image\"/>\n",
      "      </div>\n",
      "     </header>\n",
      "     <p itemprop=\"description\">\n",
      "     </p>\n",
      "     <section>\n",
      "      <h2>\n",
      "       Jeff Lim 94’s tracks\n",
      "      </h2>\n",
      "      <article class=\"audible\" itemprop=\"track\" itemscope=\"\" itemtype=\"http://schema.org/MusicRecording\">\n",
      "       <h2 itemprop=\"name\">\n",
      "        <a href=\"/jeff-lim-12/uni-x\" itemprop=\"url\">\n",
      "         uni x\n",
      "        </a>\n",
      "        by\n",
      "        <a href=\"/jeff-lim-12\">\n",
      "         Jeff Lim 94\n",
      "        </a>\n",
      "       </h2>\n",
      "       published on\n",
      "       <time pubdate=\"\">\n",
      "        2014/09/05 06:13:56 +0000\n",
      "       </time>\n",
      "       <meta content=\"PT00H02M00S\" itemprop=\"duration\"/>\n",
      "      </article>\n",
      "      <article class=\"audible\" itemprop=\"track\" itemscope=\"\" itemtype=\"http://schema.org/MusicRecording\">\n",
      "       <h2 itemprop=\"name\">\n",
      "        <a href=\"/jeff-lim-12/31st-of-july\" itemprop=\"url\">\n",
      "         31st of July\n",
      "        </a>\n",
      "        by\n",
      "        <a href=\"/jeff-lim-12\">\n",
      "         Jeff Lim 94\n",
      "        </a>\n",
      "       </h2>\n",
      "       published on\n",
      "       <time pubdate=\"\">\n",
      "        2014/07/31 02:04:35 +0000\n",
      "       </time>\n",
      "       <meta content=\"PT00H01M22S\" itemprop=\"duration\"/>\n",
      "      </article>\n",
      "      <article class=\"audible\" itemprop=\"track\" itemscope=\"\" itemtype=\"http://schema.org/MusicRecording\">\n",
      "       <h2 itemprop=\"name\">\n",
      "        <a href=\"/jeff-lim-12/deep\" itemprop=\"url\">\n",
      "         Deep\n",
      "        </a>\n",
      "        by\n",
      "        <a href=\"/jeff-lim-12\">\n",
      "         Jeff Lim 94\n",
      "        </a>\n",
      "       </h2>\n",
      "       published on\n",
      "       <time pubdate=\"\">\n",
      "        2014/07/31 01:59:31 +0000\n",
      "       </time>\n",
      "       <meta content=\"PT00H01M03S\" itemprop=\"duration\"/>\n",
      "      </article>\n",
      "      <article class=\"audible\" itemprop=\"track\" itemscope=\"\" itemtype=\"http://schema.org/MusicRecording\">\n",
      "       <h2 itemprop=\"name\">\n",
      "        <a href=\"/jeff-lim-12/night-city\" itemprop=\"url\">\n",
      "         Night City\n",
      "        </a>\n",
      "        by\n",
      "        <a href=\"/jeff-lim-12\">\n",
      "         Jeff Lim 94\n",
      "        </a>\n",
      "       </h2>\n",
      "       published on\n",
      "       <time pubdate=\"\">\n",
      "        2014/07/30 16:35:43 +0000\n",
      "       </time>\n",
      "       <meta content=\"PT00H02M28S\" itemprop=\"duration\"/>\n",
      "      </article>\n",
      "      <article class=\"audible\" itemprop=\"track\" itemscope=\"\" itemtype=\"http://schema.org/MusicRecording\">\n",
      "       <h2 itemprop=\"name\">\n",
      "        <a href=\"/jeff-lim-12/random\" itemprop=\"url\">\n",
      "         Random\n",
      "        </a>\n",
      "        by\n",
      "        <a href=\"/jeff-lim-12\">\n",
      "         Jeff Lim 94\n",
      "        </a>\n",
      "       </h2>\n",
      "       published on\n",
      "       <time pubdate=\"\">\n",
      "        2014/07/30 15:43:00 +0000\n",
      "       </time>\n",
      "       <meta content=\"PT00H02M01S\" itemprop=\"duration\"/>\n",
      "      </article>\n",
      "     </section>\n",
      "     <footer>\n",
      "      <ul>\n",
      "       <li>\n",
      "        <a href=\"/jeff-lim-12/likes\">\n",
      "         Jeff Lim 94's likes\n",
      "        </a>\n",
      "       </li>\n",
      "       <li>\n",
      "        <a href=\"/jeff-lim-12/sets\">\n",
      "         Jeff Lim 94's playlists\n",
      "        </a>\n",
      "       </li>\n",
      "       <li>\n",
      "        <a href=\"/jeff-lim-12/tracks\">\n",
      "         Jeff Lim 94's tracks\n",
      "        </a>\n",
      "       </li>\n",
      "       <li>\n",
      "        <a href=\"/jeff-lim-12/comments\" rel=\"nofollow\">\n",
      "         Jeff Lim 94's comments\n",
      "        </a>\n",
      "       </li>\n",
      "      </ul>\n",
      "     </footer>\n",
      "    </article>\n",
      "   </noscript>\n",
      "   <div id=\"updateBrowserMessage\">\n",
      "    <p class=\"messageText sc-text-light\">\n",
      "     Your current browser isn't compatible with SoundCloud.\n",
      "     <br/>\n",
      "     Please download one of our supported browsers.\n",
      "     <a href=\"http://help.soundcloud.com/customer/portal/articles/552882-the-site-won-t-load-for-me-all-i-see-is-the-soundcloud-logo-what-can-i-do-\">\n",
      "      Need help?\n",
      "     </a>\n",
      "    </p>\n",
      "    <div class=\"downloadLinks sc-type-h3 sc-text-light\">\n",
      "     <a href=\"http://google.com/chrome\" target=\"_blank\" title=\"Chrome\">\n",
      "      Chrome\n",
      "     </a>\n",
      "     |\n",
      "     <a href=\"http://firefox.com\" target=\"_blank\" title=\"Firefox\">\n",
      "      Firefox\n",
      "     </a>\n",
      "     |\n",
      "     <a href=\"http://apple.com/safari\" target=\"_blank\" title=\"Safari\">\n",
      "      Safari\n",
      "     </a>\n",
      "     |\n",
      "     <a href=\"http://windows.microsoft.com/ie\" target=\"_blank\" title=\"Internet Explorer\">\n",
      "      Internet Explorer\n",
      "     </a>\n",
      "    </div>\n",
      "   </div>\n",
      "   <div class=\"errorPage__inner sc-hidden\" id=\"error__timeout\">\n",
      "    <p class=\"errorTitle sc-type-h1\">\n",
      "     Sorry! Something went wrong\n",
      "    </p>\n",
      "    <div class=\"errorText sc-font-light\">\n",
      "     <p>\n",
      "      Is your network connection unstable or browser outdated?\n",
      "     </p>\n",
      "    </div>\n",
      "    <div class=\"errorButtons\">\n",
      "     <a class=\"sc-button\" href=\"http://help.soundcloud.com\" id=\"try-again\" target=\"_blank\">\n",
      "      I need help\n",
      "     </a>\n",
      "    </div>\n",
      "   </div>\n",
      "   <script type=\"text/javascript\">\n",
      "    window.__sc_abortApp&&(window.document.getElementById(\"updateBrowserMessage\").style.display=\"block\");\n",
      "   </script>\n",
      "   <script type=\"text/javascript\">\n",
      "    function displayError(){if(!window.__sc_abortApp){var r=window.document,e=r.getElementById(\"error__timeout\"),o=r.getElementById(\"header__loading\");e&&o&&(e.className=\"errorPage__inner\",o.className=\"sc-hidden\")}}window.setTimeout(displayError,15e3),window.onerror=displayError;\n",
      "   </script>\n",
      "   <p>\n",
      "    <a href=\"/popular/searches\" title=\"Popular searches\">\n",
      "     Popular searches\n",
      "    </a>\n",
      "   </p>\n",
      "  </div>\n",
      "  <script src=\"https://a-v2.sndcdn.com/assets/vendor-0cccb-b71feaf.js\">\n",
      "  </script>\n",
      "  <script src=\"https://a-v2.sndcdn.com/assets/views-al-f3ce4-d4cc513.js\">\n",
      "  </script>\n",
      "  <script src=\"https://a-v2.sndcdn.com/assets/views-d779a-35ce6ac.js\">\n",
      "  </script>\n",
      "  <script src=\"https://a-v2.sndcdn.com/assets/lib-f46cb-05a9710.js\">\n",
      "  </script>\n",
      "  <script src=\"https://a-v2.sndcdn.com/assets/5-29d6d-47e5e70.js\">\n",
      "  </script>\n",
      "  <script type=\"text/javascript\">\n",
      "   window.__sc_version = \"1488445821\";\n",
      "window.webpackManifest = {\"1\":\"assets/views-d779a-35ce6ac.js\",\"2\":\"assets/app-e10f3-a35d022.js\",\"3\":\"assets/views-al-f3ce4-d4cc513.js\",\"4\":\"assets/lib-f46cb-05a9710.js\",\"5\":\"assets/5-29d6d-47e5e70.js\",\"6\":\"assets/6-61b85-35ce6ac.js\",\"7\":\"assets/7-4b3cf-f91e2ee.js\",\"8\":\"assets/8-67e42-d3d0968.js\",\"9\":\"assets/9-fc9dd-243367d.js\",\"10\":\"assets/10-71c06-6932c9b.js\",\"11\":\"assets/11-784bc-d3d0968.js\",\"12\":\"assets/12-087ff-a35d022.js\",\"13\":\"assets/13-1e509-d3d0968.js\",\"14\":\"assets/14-7e0de-f694acd.js\",\"15\":\"assets/15-eff12-60f495b.js\",\"16\":\"assets/16-ded9e-59fc7b5.js\",\"17\":\"assets/17-5d3d9-59fc7b5.js\",\"18\":\"assets/18-48c98-6932c9b.js\",\"19\":\"assets/19-edd08-60f495b.js\",\"20\":\"assets/20-675e5-2ecea41.js\",\"21\":\"assets/21-3989d-47e5e70.js\",\"22\":\"assets/22-1fcbc-2388a31.js\",\"23\":\"assets/23-e6cb0-2971905.js\",\"24\":\"assets/24-43d19-2c698e8.js\",\"25\":\"assets/25-d49ad-f1d1eea.js\",\"26\":\"assets/26-95638-a65ee54.js\",\"27\":\"assets/27-b61ed-2388a31.js\",\"28\":\"assets/28-36159-9ae8456.js\",\"29\":\"assets/29-57ab0-35ce6ac.js\",\"30\":\"assets/30-3874c-56faeca.js\",\"31\":\"assets/31-feb7f-11a991f.js\",\"32\":\"assets/32-d229d-35ce6ac.js\",\"33\":\"assets/33-95b0d-e87922c.js\",\"34\":\"assets/34-3049f-9f3f7fa.js\",\"35\":\"assets/35-6766f-75ec03f.js\",\"36\":\"assets/36-1d1ad-1b9d729.js\",\"37\":\"assets/37-2d0e2-5809d94.js\",\"38\":\"assets/38-8249c-21a6e7e.js\",\"39\":\"assets/39-f2f4f-db778d9.js\",\"40\":\"assets/40-41ccb-9f3f7fa.js\",\"41\":\"assets/41-9c448-11356d5.js\",\"42\":\"assets/42-684a7-9f3f7fa.js\",\"43\":\"assets/43-65436-ca4be05.js\",\"44\":\"assets/44-79ac4-11356d5.js\"};\n",
      "  </script>\n",
      "  <script src=\"https://a-v2.sndcdn.com/assets/app-e10f3-a35d022.js\">\n",
      "  </script>\n",
      "  <script>\n",
      "   webpackJsonp([],{0:function(e,t,n){function r(e){return i.every(function(t){return t in e.prototype})}function a(e){var t=r(e);return t?function(t){var n,r=o;t.lastFetchTime&&(r=t.lastFetchTime,delete t.lastFetchTime),n=new e(t,{parse:!0}),n.lastFetchTime=r,n.release()}:e}var c=[{\"id\":1388,\"data\":[{\"country_code\":\"US\",\"country_name\":\"United States\",\"region\":\"CA\",\"city\":\"San Diego\",\"postal_code\":\"92127\",\"latitude\":33.02839660644531,\"longitude\":-117.12460327148438,\"dma_code\":825,\"area_code\":858}]},{\"id\":1320,\"data\":[{}]},{\"id\":1322,\"data\":[{\"autocomplete_queries\":true,\"v2_midtier_rollout\":true}]},{\"id\":61,\"data\":[{\"avatar_url\":\"https://i1.sndcdn.com/avatars-000074568974-7dowei-large.jpg\",\"city\":\"Penang\",\"comments_count\":2,\"country_code\":\"MY\",\"created_at\":\"2013-01-05T12:15:05Z\",\"creator_subscriptions\":[{\"product\":{\"id\":\"free\",\"name\":\"Free\"},\"recurring\":false,\"hug\":false}],\"creator_subscription\":null,\"description\":null,\"followers_count\":79,\"followings_count\":87,\"first_name\":\"Lim\",\"full_name\":\"Lim Jeff\",\"groups_count\":0,\"id\":31998950,\"kind\":\"user\",\"last_modified\":\"2015-08-20T09:39:59Z\",\"last_name\":\"Jeff\",\"likes_count\":108,\"permalink\":\"jeff-lim-12\",\"permalink_url\":\"https://soundcloud.com/jeff-lim-12\",\"playlist_count\":8,\"reposts_count\":null,\"track_count\":5,\"uri\":\"https://api.soundcloud.com/users/31998950\",\"urn\":\"soundcloud:users:31998950\",\"username\":\"Jeff Lim 94\",\"verified\":false,\"visuals\":null,\"url\":\"/jeff-lim-12\"}]}],o=Date.now(),i=[\"resource_type\",\"get\",\"set\",\"addSubmodel\",\"release\"];c.forEach(function(e){try{var t=a(n(e.id));e.data.forEach(function(e){t(e)})}catch(r){}})}});\n",
      "  </script>\n",
      " </body>\n",
      "</html>\n"
     ]
    }
   ],
   "source": [
    "print soup.prettify()"
   ]
  },
  {
   "cell_type": "markdown",
   "metadata": {},
   "source": [
    "Used Soup find to find the the value of follower_count"
   ]
  },
  {
   "cell_type": "code",
   "execution_count": 11,
   "metadata": {
    "collapsed": false
   },
   "outputs": [
    {
     "data": {
      "text/plain": [
       "<meta content=\"79\" property=\"soundcloud:follower_count\"/>"
      ]
     },
     "execution_count": 11,
     "metadata": {},
     "output_type": "execute_result"
    }
   ],
   "source": [
    "soup.find(\"meta\",{'property':'soundcloud:follower_count' })"
   ]
  },
  {
   "cell_type": "code",
   "execution_count": 6,
   "metadata": {
    "collapsed": false
   },
   "outputs": [],
   "source": [
    "tag = soup.find(attrs={'property':'soundcloud:follower_count'})"
   ]
  },
  {
   "cell_type": "code",
   "execution_count": 7,
   "metadata": {
    "collapsed": false
   },
   "outputs": [],
   "source": [
    "dirty_followers = tag['content']"
   ]
  },
  {
   "cell_type": "markdown",
   "metadata": {},
   "source": [
    "Converted tag to an int..\n"
   ]
  },
  {
   "cell_type": "code",
   "execution_count": 8,
   "metadata": {
    "collapsed": false
   },
   "outputs": [],
   "source": [
    "clean_followers = int(dirty_followers)"
   ]
  },
  {
   "cell_type": "code",
   "execution_count": 9,
   "metadata": {
    "collapsed": false
   },
   "outputs": [
    {
     "data": {
      "text/plain": [
       "79"
      ]
     },
     "execution_count": 9,
     "metadata": {},
     "output_type": "execute_result"
    }
   ],
   "source": [
    "clean_followers"
   ]
  },
  {
   "cell_type": "code",
   "execution_count": null,
   "metadata": {
    "collapsed": true
   },
   "outputs": [],
   "source": []
  }
 ],
 "metadata": {
  "kernelspec": {
   "display_name": "Python 2",
   "language": "python",
   "name": "python2"
  },
  "language_info": {
   "codemirror_mode": {
    "name": "ipython",
    "version": 2
   },
   "file_extension": ".py",
   "mimetype": "text/x-python",
   "name": "python",
   "nbconvert_exporter": "python",
   "pygments_lexer": "ipython2",
   "version": "2.7.13"
  }
 },
 "nbformat": 4,
 "nbformat_minor": 0
}
